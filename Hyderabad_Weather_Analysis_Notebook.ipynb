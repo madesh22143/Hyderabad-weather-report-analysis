{
 "cells": [
  {
   "cell_type": "markdown",
   "id": "5b506776",
   "metadata": {},
   "source": [
    "# 🌧️ Hyderabad City Weather Report Analysis"
   ]
  },
  {
   "cell_type": "markdown",
   "id": "1574211d",
   "metadata": {},
   "source": [
    "**Generated on:** July 14, 2025"
   ]
  },
  {
   "cell_type": "markdown",
   "id": "cec7a61e",
   "metadata": {},
   "source": [
    "This notebook demonstrates how to collect, clean, and analyze weather data for Hyderabad using open APIs and Python."
   ]
  },
  {
   "cell_type": "markdown",
   "id": "15cad63a",
   "metadata": {},
   "source": [
    "## 📚 Load Weather Data via Open-Meteo API"
   ]
  },
  {
   "cell_type": "code",
   "execution_count": null,
   "id": "a5961a85",
   "metadata": {},
   "outputs": [],
   "source": [
    "\n",
    "import requests\n",
    "import pandas as pd\n",
    "\n",
    "# Open-Meteo API for Hyderabad Coordinates\n",
    "url = (\n",
    "    \"https://archive-api.open-meteo.com/v1/archive?latitude=17.3850\"\n",
    "    \"&longitude=78.4867&start_date=2024-01-01&end_date=2024-03-31\"\n",
    "    \"&daily=temperature_2m_max,temperature_2m_min,precipitation_sum\"\n",
    "    \"&timezone=Asia%2FKolkata\"\n",
    ")\n",
    "response = requests.get(url)\n",
    "data = response.json()\n",
    "\n",
    "# Transform to DataFrame\n",
    "df = pd.DataFrame({\n",
    "    \"date\": data[\"daily\"][\"time\"],\n",
    "    \"temperature_max\": data[\"daily\"][\"temperature_2m_max\"],\n",
    "    \"temperature_min\": data[\"daily\"][\"temperature_2m_min\"],\n",
    "    \"rainfall\": data[\"daily\"][\"precipitation_sum\"]\n",
    "})\n",
    "\n",
    "# Save to CSV\n",
    "df.to_csv(\"hyderabad_weather_api.csv\", index=False)\n",
    "df.head()\n"
   ]
  },
  {
   "cell_type": "markdown",
   "id": "acdfa6ec",
   "metadata": {},
   "source": [
    "## 📈 Monthly Temperature Trends"
   ]
  },
  {
   "cell_type": "code",
   "execution_count": null,
   "id": "cc4852d7",
   "metadata": {},
   "outputs": [],
   "source": [
    "\n",
    "import matplotlib.pyplot as plt\n",
    "import seaborn as sns\n",
    "\n",
    "# Load dataset\n",
    "df = pd.read_csv('hyderabad_weather_api.csv', parse_dates=['date'])\n",
    "df['month'] = df['date'].dt.month\n",
    "\n",
    "# Plot monthly temperature trends\n",
    "plt.figure(figsize=(12, 6))\n",
    "sns.lineplot(x='month', y='temperature_max', data=df, label='Max Temp')\n",
    "sns.lineplot(x='month', y='temperature_min', data=df, label='Min Temp')\n",
    "plt.title('Monthly Temperature Trends in Hyderabad')\n",
    "plt.xlabel('Month')\n",
    "plt.ylabel('Temperature (°C)')\n",
    "plt.legend()\n",
    "plt.grid(True)\n",
    "plt.tight_layout()\n",
    "plt.savefig('weather_analysis_plots.png')\n",
    "plt.show()\n"
   ]
  },
  {
   "cell_type": "markdown",
   "id": "fc24f840",
   "metadata": {},
   "source": [
    "## ✅ Summary & Next Steps"
   ]
  },
  {
   "cell_type": "markdown",
   "id": "4c76d62a",
   "metadata": {},
   "source": [
    "\n",
    "- Used public weather data from Open-Meteo\n",
    "- Analyzed temperature trends for Hyderabad\n",
    "- Saved data and plots locally\n",
    "\n",
    "**Next Steps:**\n",
    "- Add AQI and humidity data\n",
    "- Automate updates via scheduling\n",
    "- Build dashboard using Streamlit or Dash\n"
   ]
  }
 ],
 "metadata": {},
 "nbformat": 4,
 "nbformat_minor": 5
}